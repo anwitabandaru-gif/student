{
 "cells": [
  {
   "cell_type": "raw",
   "id": "47d06ccd",
   "metadata": {
    "vscode": {
     "languageId": "raw"
    }
   },
   "source": [
    "---\n",
    "layout: post\n",
    "title: Programming Fundamentals - P4\n",
    "description: An introduction to College Board's Big Idea 3, part one.  This is a collection of Python lessons to help students understand the fundamental algorithm and programming elementes required by College Board's AP Computer Science Principles curriculum.\n",
    "toc: False\n",
    "comments: False\n",
    "permalink: /csp/big-idea-3/iterations/p4/lesson\n",
    "comments: true\n",
    "---"
   ]
  },
  {
   "cell_type": "markdown",
   "id": "db2572fa",
   "metadata": {},
   "source": [
    "\n",
    "# Iteration Lesson – Big Idea 3.8\n",
    "\n"
   ]
  },
  {
   "cell_type": "markdown",
   "id": "89d0bc9b",
   "metadata": {},
   "source": [
    "---"
   ]
  },
  {
   "cell_type": "markdown",
   "id": "25d6ac6d",
   "metadata": {},
   "source": [
    "## Warm-Up\n",
    "Think about these questions:\n",
    "- How do you brush your teeth every morning?\n",
    "- Do you repeat steps until your teeth feel clean?\n",
    "- What are other examples in daily life where we repeat steps?\n",
    "\n",
    "Iteration is like repeating those steps in code until a condition is met."
   ]
  },
  {
   "cell_type": "markdown",
   "id": "60cd1c6c",
   "metadata": {},
   "source": [
    "\n",
    "## Essential knowledge & key terms (short)\n",
    "\n",
    "- Iteration (loops): repeating a block of code until a condition or a sequence ends.\n",
    "- Definite loop: repeats a known number of times (often a `for` with a range or index).\n",
    "- Indefinite loop: repeats until a condition changes (a `while` loop).\n",
    "- Infinite loop: a loop that never stops because the stopping condition is never reached — a common bug.\n",
    "- Loop vocabulary: loop, iteration, counter/index, sentinel (a stopping value), body (the code inside the loop).\n",
    "\n",
    "Tip: For beginners, think first: do you know how many times this should run? If yes, use a definite loop; if not, use a while loop with a clear exit condition."
   ]
  },
  {
   "cell_type": "markdown",
   "id": "0b8a1c9f",
   "metadata": {},
   "source": [
    "\n",
    "## Key Vocabulary\n",
    "- **Loop** – A structure that repeats instructions.  \n",
    "- **For loop** – Repeats a block of code a specific number of times.  \n",
    "- **While loop** – Repeats a block of code as long as a condition is true.  \n",
    "- **Iteration** – Each repetition of the loop body.  \n"
   ]
  },
  {
   "cell_type": "markdown",
   "id": "9168a46c",
   "metadata": {
    "vscode": {
     "languageId": "raw"
    }
   },
   "source": [
    "---"
   ]
  },
  {
   "cell_type": "markdown",
   "id": "72eae2fc",
   "metadata": {},
   "source": [
    "## Language comparison: Python vs JavaScript\n"
   ]
  },
  {
   "cell_type": "markdown",
   "id": "ed21b7e3",
   "metadata": {},
   "source": [
    "Short notes for beginners:\n",
    "- Python uses indentation to mark the loop body; JavaScript uses braces `{}`.\n",
    "- Python commonly uses `range()` and direct iteration over lists; JavaScript often uses `for`, `for...of`, or array methods like `.forEach()`.\n",
    "- Behavior of `break` and `continue` is the same in both languages but the syntax differs slightly.\n",
    "- When converting between languages, focus on the loop's goal (counting, iterating, waiting for a condition) and pick the matching pattern in the target language."
   ]
  },
  {
   "cell_type": "markdown",
   "id": "6e0cbbfc",
   "metadata": {
    "vscode": {
     "languageId": "raw"
    }
   },
   "source": [
    "---"
   ]
  },
  {
   "cell_type": "markdown",
   "id": "27fdd95d",
   "metadata": {},
   "source": [
    "# `For` loops \n",
    "\n",
    "A `for` loop is used when you know (or can determine) how many times you want to repeat something. In Python, `for variable in sequence:` runs the body once for each item in the sequence.\n",
    "\n",
    "`for` loops are definate loops meaning they only run for a definate amount of variables\n",
    "\n",
    "Key parts:\n",
    "- `variable`: a name that refers to the current item or index each iteration.\n",
    "- `sequence`: something you can loop over (like `range()`, lists, strings).\n",
    "\n",
    "Example: iterate a list of names and greet each person."
   ]
  },
  {
   "cell_type": "code",
   "execution_count": 8,
   "id": "25b2fbc5",
   "metadata": {},
   "outputs": [
    {
     "name": "stdout",
     "output_type": "stream",
     "text": [
      "Hello, Anwita\n",
      "Hello, Nicholas\n",
      "Hello, Varada\n"
     ]
    }
   ],
   "source": [
    "names = ['Anwita', 'Nicholas', 'Varada']\n",
    "for name in names:\n",
    "    print('Hello,', name)\n",
    "\n",
    "# Output: Hello, Anwita\n",
    "#         Hello, Nicholas\n",
    "#         Hello, Varada"
   ]
  },
  {
   "cell_type": "markdown",
   "id": "34baa63f",
   "metadata": {},
   "source": [
    "### What happens during a `for` loop (step-by-step)\n",
    "\n",
    "Let's look at a tiny loop and trace exactly what the computer does each step. This helps beginners see how the loop variable changes and when the loop stops.\n",
    "\n",
    "Code to trace:\n",
    "```python\n",
    "for i in range(1, 4):\n",
    "    print('i is', i)\n",
    "```\n",
    "\n",
    "Step-by-step explanation:\n",
    "1. `range(1, 4)` creates the sequence [1, 2, 3].\n",
    "2. The loop picks the first item (1) and assigns it to `i`.\n",
    "3. The body `print('i is', i)` runs and shows `i is 1`.\n",
    "4. The loop picks the next item (2), assigns to `i`, runs the body, prints `i is 2`.\n",
    "5. The loop picks the next item (3), prints `i is 3`.\n",
    "6. There are no more items, so the loop ends.\n",
    "\n",
    "Try changing the range numbers to see more or fewer iterations."
   ]
  },
  {
   "cell_type": "code",
   "execution_count": 2,
   "id": "0dfb5b0e",
   "metadata": {},
   "outputs": [
    {
     "name": "stdout",
     "output_type": "stream",
     "text": [
      "current value of i = 1\n",
      "current value of i = 2\n",
      "current value of i = 3\n"
     ]
    }
   ],
   "source": [
    "# Run the tiny loop so you can see the trace\n",
    "for i in range(1, 4):\n",
    "    print('current value of i =', i)\n",
    "\n",
    "# Expected output:\n",
    "#  current value of i = 1\n",
    "#  current value of i = 2\n",
    "#  current value of i = 3"
   ]
  },
  {
   "cell_type": "markdown",
   "id": "0f8f068b",
   "metadata": {},
   "source": [
    "### Real-world example: adding numbers with a `for` loop\n",
    "\n",
    "We often use loops to add up values, like summing points, totals, or scores. Here we add numbers from 1 to 5 and show the running total so beginners can see how the variable changes each iteration.\n"
   ]
  },
  {
   "cell_type": "code",
   "execution_count": null,
   "id": "9ab8066b",
   "metadata": {},
   "outputs": [
    {
     "name": "stdout",
     "output_type": "stream",
     "text": [
      "after adding 1 total is 1\n",
      "after adding 2 total is 3\n",
      "after adding 3 total is 6\n",
      "after adding 4 total is 10\n",
      "after adding 5 total is 15\n",
      "Final total: 15\n"
     ]
    }
   ],
   "source": [
    "total = 0\n",
    "for n in range(1, 6):  # 1 through 5\n",
    "    total += n  # add the current number to total\n",
    "    print('after adding', n, 'total is', total) # show running total\n",
    "\n",
    "print('Final total:', total)  # should be 15"
   ]
  },
  {
   "cell_type": "markdown",
   "id": "567aba30",
   "metadata": {},
   "source": [
    "---"
   ]
  },
  {
   "cell_type": "markdown",
   "id": "932ff160",
   "metadata": {},
   "source": [
    "## Python vs JavaScript: `for` Loops"
   ]
  },
  {
   "cell_type": "markdown",
   "id": "4bf023f1",
   "metadata": {},
   "source": [
    "### 1) Simple `for` loop (counting)\n",
    "Python explanation: `for i in range(start, end)` runs i through a sequence of numbers.\n",
    "```python\n",
    "for i in range(1, 6):\n",
    "    print(i)  # prints 1,2,3,4,5\n",
    "```\n",
    "JavaScript explanation: `for (let i = start; i < end; i++)` is the usual counting loop.\n",
    "```javascript\n",
    "for (let i = 1; i <= 5; i++) {\n",
    "  console.log(i); // prints 1,2,3,4,5\n",
    "}\n",
    "```\n",
    "---\n",
    "### 2) Looping over an array/list\n",
    "Python (list): use `for item in list:`\n",
    "```python\n",
    "names = ['Anwita','Nicholas','Varada']\n",
    "for name in names:\n",
    "    print('Hello', name)\n",
    "```\n",
    "JavaScript (array): use `for...of` or index loop\n",
    "```javascript\n",
    "const names = ['Anwita','Nicholas','Varada'];\n",
    "for (const name of names) {\n",
    "  console.log('Hello', name);\n",
    "}\n",
    "```"
   ]
  },
  {
   "cell_type": "markdown",
   "id": "d9a71bdf",
   "metadata": {},
   "source": [
    "---"
   ]
  },
  {
   "cell_type": "markdown",
   "id": "6d9038ef",
   "metadata": {},
   "source": [
    "### Extra Simple nested loop: a tiny multiplication table\n",
    "\n",
    "Nested loops are loops inside loops. Beginners should try very small sizes so the output stays readable. Here we make a 3x3 multiplication table.\n"
   ]
  },
  {
   "cell_type": "code",
   "execution_count": null,
   "id": "0656e2da",
   "metadata": {},
   "outputs": [
    {
     "name": "stdout",
     "output_type": "stream",
     "text": [
      "1\t2\t3\t\n",
      "2\t4\t6\t\n",
      "3\t6\t9\t\n"
     ]
    }
   ],
   "source": [
    "for i in range(1, 4):  # rows\n",
    "    row = '' # start with empty string for this row\n",
    "    for j in range(1, 4):  # columns which show multiplication table from 1 to 3\n",
    "        row += str(i * j) + '\t'  # show product and a tab\n",
    "    print(row)\n",
    "\n",
    "# Output:\n",
    "# 1\t2\t3\t\n",
    "# 2\t4\t6\t\n",
    "# 3\t6\t9\t"
   ]
  },
  {
   "cell_type": "markdown",
   "id": "178d6e2d",
   "metadata": {},
   "source": [
    "---"
   ]
  },
  {
   "cell_type": "markdown",
   "id": "f0c56e20",
   "metadata": {},
   "source": [
    "# `While` loops \n",
    "\n",
    "A `while` loop repeats as long as a condition remains true. Use `while` when you don’t know in advance how many iterations you need — just the condition that should stop the loop.\n",
    "\n",
    "A `while` loop  is an **indefinate** loop meaning it will repeat as long as a condition is true\n",
    "Important ideas:\n",
    "- Ensure something in the loop eventually makes the condition false (like updating a counter).\n",
    "- Be careful with input-driven loops — always validate and provide a clear exit path.\n",
    "\n",
    "Example: Create a list of numbers and end and 5"
   ]
  },
  {
   "cell_type": "code",
   "execution_count": 17,
   "id": "9e057d68",
   "metadata": {},
   "outputs": [
    {
     "name": "stdout",
     "output_type": "stream",
     "text": [
      "1\n",
      "2\n",
      "3\n",
      "4\n",
      "5\n"
     ]
    }
   ],
   "source": [
    "# Initialize a variable\n",
    "num = 1\n",
    "\n",
    "# While loop starts\n",
    "while num <= 5: # This loop will continue as long as num is less than or equal to 5\n",
    "    print(num) # Print the current value of the number\n",
    "    num += 1  # This is equivalent to num = num + 1\n",
    "# End of the loop"
   ]
  },
  {
   "cell_type": "markdown",
   "id": "8cb129c5",
   "metadata": {},
   "source": [
    "### Doubling using `while` loops\n",
    "\n",
    "This loop will continue as long as the number is less than or equal to 100 starting at 2"
   ]
  },
  {
   "cell_type": "code",
   "execution_count": 5,
   "id": "29ff17a9",
   "metadata": {},
   "outputs": [
    {
     "name": "stdout",
     "output_type": "stream",
     "text": [
      "2\n",
      "4\n",
      "8\n",
      "16\n",
      "32\n",
      "64\n"
     ]
    }
   ],
   "source": [
    "# Keep doubling until the number is greater than 100\n",
    "num = 2 # Start with 2\n",
    "while num <= 100: # This loop will continue as long as num is less than or equal to 100\n",
    "    print(num) # Print the current value of the number\n",
    "    num = num * 2 # This is equivalent to num *= 2"
   ]
  },
  {
   "cell_type": "markdown",
   "id": "46acbefd",
   "metadata": {},
   "source": [
    "###  `while` example: countdown with a safety counter\n",
    "\n",
    "This `while` loop counts down from 5 to 1. We also show a safety pattern you can use while testing loops: include a maximum iteration counter so a bug won't lock up your environment during development."
   ]
  },
  {
   "cell_type": "code",
   "execution_count": 19,
   "id": "1e328cea",
   "metadata": {},
   "outputs": [
    {
     "name": "stdout",
     "output_type": "stream",
     "text": [
      "T minus 10\n",
      "T minus 9\n",
      "T minus 8\n",
      "T minus 7\n",
      "T minus 6\n",
      "T minus 5\n",
      "T minus 4\n",
      "T minus 3\n",
      "T minus 2\n",
      "T minus 1\n",
      "Blast off!\n"
     ]
    }
   ],
   "source": [
    "n = 10\n",
    "safety = 0\n",
    "while n > 0 and safety < 20:  # second condition prevents infinite loops during testing\n",
    "    print('T minus', n)\n",
    "    n -= 1 # same as n = n - 1\n",
    "    safety += 1 # increment safety counter to prevent infinite loop during testing\n",
    "\n",
    "print('Blast off!') "
   ]
  },
  {
   "cell_type": "markdown",
   "id": "9921809e",
   "metadata": {},
   "source": [
    "### JavaScript equivalent\n",
    "Here is the same behavior in JavaScript (prints to console):"
   ]
  },
  {
   "cell_type": "code",
   "execution_count": 20,
   "id": "a209f7ae",
   "metadata": {
    "vscode": {
     "languageId": "javascript"
    }
   },
   "outputs": [
    {
     "data": {
      "application/javascript": "// Start with 2, keep doubling while <= 100\nlet num = 2;\nwhile (num <= 100) {\n  console.log(num);\n  num = num * 2; // or num *= 2 for shorter syntax\n}\n",
      "text/plain": [
       "<IPython.core.display.Javascript object>"
      ]
     },
     "metadata": {},
     "output_type": "display_data"
    }
   ],
   "source": [
    "%%js\n",
    "// Start with 2, keep doubling while <= 100\n",
    "let num = 2;\n",
    "while (num <= 100) {\n",
    "  console.log(num);\n",
    "  num = num * 2; // or num *= 2 for shorter syntax\n",
    "}"
   ]
  },
  {
   "cell_type": "markdown",
   "id": "7fa18114",
   "metadata": {},
   "source": [
    "---"
   ]
  },
  {
   "cell_type": "markdown",
   "id": "f710848c",
   "metadata": {},
   "source": [
    "## JavaScript vs. Python: `while` Loops\n",
    "### 3) `while` loop (indefinite)\n",
    "Python: repeat until condition false\n",
    "```python\n",
    "count = 1\n",
    "while count <= 5:\n",
    "    print(count)\n",
    "    count += 1\n",
    "```\n",
    "JavaScript: similar structure, but different syntax\n",
    "```javascript\n",
    "let count = 1;\n",
    "while (count <= 5) {\n",
    "  console.log(count);\n",
    "  count += 1;\n",
    "}\n",
    "```"
   ]
  },
  {
   "cell_type": "markdown",
   "id": "df32671e",
   "metadata": {},
   "source": [
    "---"
   ]
  },
  {
   "cell_type": "markdown",
   "id": "a497339b",
   "metadata": {
    "vscode": {
     "languageId": "javascript"
    }
   },
   "source": [
    "## Control flow inside loops: break and continue\n",
    "\n",
    "- `break` exits the entire loop immediately.\n",
    "- `continue` skips the rest of the current iteration and goes to the next one.\n",
    "\n",
    "Example: print numbers 1–6 but skip 3 and stop when you reach 5."
   ]
  },
  {
   "cell_type": "code",
   "execution_count": null,
   "id": "df2f7e8d",
   "metadata": {},
   "outputs": [
    {
     "name": "stdout",
     "output_type": "stream",
     "text": [
      "1\n",
      "2\n",
      "4\n",
      "5\n"
     ]
    }
   ],
   "source": [
    "for n in range(1, 8): # numbers 1 to 8\n",
    "    if n == 3: # when n is 3\n",
    "        continue  # skip number 3\n",
    "    if n == 6: # when n is 6\n",
    "        break  # stop the whole loop at 6\n",
    "    print(n) # what number is printed\n",
    "\n",
    "# Output: 1\n",
    "#         2\n",
    "#         4\n",
    "#         5"
   ]
  },
  {
   "cell_type": "markdown",
   "id": "73ebecad",
   "metadata": {},
   "source": [
    "### 4) `break` and `continue`\n",
    "Python:\n",
    "```python\n",
    "for i in range(1, 6):\n",
    "    if i == 3:\n",
    "        continue  # skip the rest of this iteration\n",
    "    if i == 5:\n",
    "        break     # exit the loop early\n",
    "    print(i) \n",
    "```\n",
    "JavaScript:\n",
    "```javascript\n",
    "for (let i = 1; i <= 5; i++) {\n",
    "  if (i === 3) continue;\n",
    "  if (i === 5) break;\n",
    "  console.log(i);\n",
    "}\n",
    "```"
   ]
  },
  {
   "cell_type": "markdown",
   "id": "4334fcbd",
   "metadata": {
    "vscode": {
     "languageId": "raw"
    }
   },
   "source": [
    "### You can run this code in a Python environment to see the infinite loop in action. Be cautious, as it will not stop on its own. \n",
    "Common causes of infinite loops:\n",
    "- Forgetting to update the loop variable (e.g., never incrementing a counter).\n",
    "- Using the wrong comparison so the condition never becomes false.\n",
    "- Depending on input without providing an exit path.\n",
    "\n",
    "How to debug:\n",
    "- Add `print` statements inside the loop to see what's happening.\n",
    "- Use a temporary safety counter that forces the loop to stop after many iterations when testing.\n",
    "- Carefully reason about which statements change the condition.\n"
   ]
  },
  {
   "cell_type": "markdown",
   "id": "9f0dbad1",
   "metadata": {},
   "source": [
    "---"
   ]
  },
  {
   "cell_type": "markdown",
   "id": "927c5ae8",
   "metadata": {},
   "source": [
    "\n",
    "## Reflection\n",
    "- When would you use a `for` loop instead of a `while` loop?  \n",
    "- How does iteration reduce the need for repetitive code?  \n",
    "- How can infinite loops be avoided?  \n"
   ]
  },
  {
   "cell_type": "markdown",
   "id": "5266467d",
   "metadata": {},
   "source": [
    "\n",
    "## Check for Understanding\n",
    "\n",
    "**Question:** What will this code output?  \n",
    "```python\n",
    "for i in range(3):\n",
    "    print(\"hi\")\n",
    "```\n",
    "\n",
    "- A) `hi`  \n",
    "- B) `hi hi`  \n",
    "- C) `hi hi hi`  \n",
    "- D) Nothing  \n",
    "\n",
    "**Correct Answer:** C  \n"
   ]
  }
 ],
 "metadata": {
  "kernelspec": {
   "display_name": "venv",
   "language": "python",
   "name": "python3"
  },
  "language_info": {
   "codemirror_mode": {
    "name": "ipython",
    "version": 3
   },
   "file_extension": ".py",
   "mimetype": "text/x-python",
   "name": "python",
   "nbconvert_exporter": "python",
   "pygments_lexer": "ipython3",
   "version": "3.12.3"
  }
 },
 "nbformat": 4,
 "nbformat_minor": 5
}
