{
 "cells": [
  {
   "cell_type": "raw",
   "id": "cbbfb22c",
   "metadata": {},
   "source": [
    "---\n",
    "layout: post\n",
    "title: \"Escape Room 3.15 - Hack\"\n",
    "description: \"Extended Javascript challenges and hacks for CSP 3.15 Escape Room - Random Values\"\n",
    "type: hacks\n",
    "toc: true\n",
    "comments: true\n",
    "permalink: /3.15/homework/javascript\n",
    "author: Team Debuggers\n",
    "---"
   ]
  },
  {
   "cell_type": "markdown",
   "id": "9f78ed1b",
   "metadata": {},
   "source": [
    "# 🚀 Escape Room Javascript Hacks"
   ]
  },
  {
   "cell_type": "markdown",
   "id": "8272187c",
   "metadata": {
    "vscode": {
     "languageId": "javascript"
    }
   },
   "source": [
    "1. Simulate drawing two random cards, where each card has a value between 1 and 10. Show the two card values and their total.\n"
   ]
  },
  {
   "cell_type": "code",
   "execution_count": 2,
   "id": "78a936d8",
   "metadata": {
    "vscode": {
     "languageId": "javascript"
    }
   },
   "outputs": [
    {
     "data": {
      "application/javascript": "// 🎴 Simulate drawing two random cards between 1 and 10\n\n// TODO: Generate a random value between 1 and 10 for the first card\nlet card1 = Math.floor(Math.random() * 10) + 1; // random integer 1-10\nlet card2 = Math.floor(Math.random() * 10) + 1; // random integer 1-10\n\nlet total = card1 + card2;\n\nconsole.log(\"Card 1:\", card1);\nconsole.log(\"Card 2:\", card2);\nconsole.log(\"Total:\", total);\n",
      "text/plain": [
       "<IPython.core.display.Javascript object>"
      ]
     },
     "metadata": {},
     "output_type": "display_data"
    }
   ],
   "source": [
    "%%js \n",
    "// 🎴 Simulate drawing two random cards between 1 and 10\n",
    "\n",
    "// TODO: Generate a random value between 1 and 10 for the first card\n",
    "let card1 = Math.floor(Math.random() * 10) + 1; // random integer 1-10\n",
    "let card2 = Math.floor(Math.random() * 10) + 1; // random integer 1-10\n",
    "\n",
    "let total = card1 + card2;\n",
    "\n",
    "console.log(\"Card 1:\", card1);\n",
    "console.log(\"Card 2:\", card2);\n",
    "console.log(\"Total:\", total);\n"
   ]
  },
  {
   "cell_type": "markdown",
   "id": "7db55f36",
   "metadata": {},
   "source": [
    "<img src=\"../../../../../student/images/random/hack1.png\" \n",
    "alt=\"Console Output\" style=\"max-width:300px; margin:10px;\">"
   ]
  },
  {
   "cell_type": "markdown",
   "id": "1d1e615b",
   "metadata": {},
   "source": [
    "2. Create a decision maker where \"Definitely\" appears 30% of the time"
   ]
  },
  {
   "cell_type": "code",
   "execution_count": 5,
   "id": "ccb86ba7",
   "metadata": {
    "vscode": {
     "languageId": "javascript"
    }
   },
   "outputs": [
    {
     "data": {
      "application/javascript": "// 🎲 Decision Maker\n// Goal: \"Definitely\" should appear about 30% of the time when you run this code\n\n// TODO: Generate a random number between 1 and 100\nlet rand = Math.floor(Math.random() * 100) + 1;\n\nif (rand <= 30) {\n  console.log(\"Definitely\");\n} else {\n  console.log(\"Not this time\");\n}\n",
      "text/plain": [
       "<IPython.core.display.Javascript object>"
      ]
     },
     "metadata": {},
     "output_type": "display_data"
    }
   ],
   "source": [
    "%%js\n",
    "// 🎲 Decision Maker\n",
    "// Goal: \"Definitely\" should appear about 30% of the time when you run this code\n",
    "\n",
    "// TODO: Generate a random number between 1 and 100\n",
    "let rand = Math.floor(Math.random() * 100) + 1;\n",
    "\n",
    "if (rand <= 30) {\n",
    "  console.log(\"Definitely\");\n",
    "} else {\n",
    "  console.log(\"Not this time\");\n",
    "}\n"
   ]
  },
  {
   "cell_type": "markdown",
   "id": "132c9a75",
   "metadata": {},
   "source": [
    "<img src=\"../../../../../student/images/random/hack2.png\" \n",
    "alt=\"Console Output\" style=\"max-width:300px; margin:10px;\">"
   ]
  },
  {
   "cell_type": "markdown",
   "id": "3a1307fb",
   "metadata": {},
   "source": [
    "3. Simulate one coin flip and one dice roll.\n",
    "\n",
    "- The coin flip should be 0 = Heads or 1 = Tails.\n",
    "\n",
    "- The dice roll should be a number between 1 and 6.\n",
    "\n",
    "- Print out both results."
   ]
  },
  {
   "cell_type": "code",
   "execution_count": 6,
   "id": "5757bb69",
   "metadata": {
    "vscode": {
     "languageId": "javascript"
    }
   },
   "outputs": [
    {
     "data": {
      "application/javascript": "// 🪙 Simulate one coin flip and one dice roll\n\n// TODO: Generate a random value 0 or 1 for the coin\nlet coin = Math.floor(Math.random() * 2);\n\nconsole.log(\"Coin flip:\", coin === 0 ? \"Heads\" : \"Tails\");\n\nlet dice = Math.floor(Math.random() * 6) + 1;\n\nconsole.log(\"Dice roll:\", dice);\n",
      "text/plain": [
       "<IPython.core.display.Javascript object>"
      ]
     },
     "metadata": {},
     "output_type": "display_data"
    }
   ],
   "source": [
    "%%js\n",
    "// 🪙 Simulate one coin flip and one dice roll\n",
    "\n",
    "// TODO: Generate a random value 0 or 1 for the coin\n",
    "let coin = Math.floor(Math.random() * 2);\n",
    "\n",
    "console.log(\"Coin flip:\", coin === 0 ? \"Heads\" : \"Tails\");\n",
    "\n",
    "let dice = Math.floor(Math.random() * 6) + 1;\n",
    "\n",
    "console.log(\"Dice roll:\", dice);\n"
   ]
  },
  {
   "cell_type": "markdown",
   "id": "62880dfd",
   "metadata": {},
   "source": [
    "<img src=\"../../../../../student/images/random/hack3.png\" \n",
    "alt=\"Console Output\" style=\"max-width:300px; margin:10px;\">"
   ]
  },
  {
   "cell_type": "markdown",
   "id": "8b49e277",
   "metadata": {},
   "source": [
    "4. Write code that randomly picks one fortune from a list of 5 possible fortunes and prints it out."
   ]
  },
  {
   "cell_type": "code",
   "execution_count": 7,
   "id": "dd613a02",
   "metadata": {
    "vscode": {
     "languageId": "javascript"
    }
   },
   "outputs": [
    {
     "data": {
      "application/javascript": "// 🔮 Random Fortune Generator\n\n// TODO: Make a list (array) of fortunes\nlet fortunes = [\n  \"You will have a great day!\",\n  \"A surprise is waiting for you.\",\n  \"Good luck is coming your way.\",\n  \"Be cautious with new opportunities.\",\n  \"Happiness is around the corner.\"\n];\n\nlet index = Math.floor(Math.random() * fortunes.length);\nconsole.log(\"Your fortune:\", fortunes[index]);\n",
      "text/plain": [
       "<IPython.core.display.Javascript object>"
      ]
     },
     "metadata": {},
     "output_type": "display_data"
    }
   ],
   "source": [
    "%%js \n",
    "// 🔮 Random Fortune Generator\n",
    "\n",
    "// TODO: Make a list (array) of fortunes\n",
    "let fortunes = [\n",
    "  \"You will have a great day!\",\n",
    "  \"A surprise is waiting for you.\",\n",
    "  \"Good luck is coming your way.\",\n",
    "  \"Be cautious with new opportunities.\",\n",
    "  \"Happiness is around the corner.\"\n",
    "];\n",
    "\n",
    "let index = Math.floor(Math.random() * fortunes.length);\n",
    "console.log(\"Your fortune:\", fortunes[index]);"
   ]
  },
  {
   "cell_type": "markdown",
   "id": "24f2a7f7",
   "metadata": {},
   "source": [
    "<img src=\"../../../../../student/images/random/hack4.png\" \n",
    "alt=\"Console Output\" style=\"max-width:300px; margin:10px;\">"
   ]
  }
 ],
 "metadata": {
  "kernelspec": {
   "display_name": "venv",
   "language": "python",
   "name": "python3"
  },
  "language_info": {
   "codemirror_mode": {
    "name": "ipython",
    "version": 3
   },
   "file_extension": ".py",
   "mimetype": "text/x-python",
   "name": "python",
   "nbconvert_exporter": "python",
   "pygments_lexer": "ipython3",
   "version": "3.12.3"
  }
 },
 "nbformat": 4,
 "nbformat_minor": 5
}
