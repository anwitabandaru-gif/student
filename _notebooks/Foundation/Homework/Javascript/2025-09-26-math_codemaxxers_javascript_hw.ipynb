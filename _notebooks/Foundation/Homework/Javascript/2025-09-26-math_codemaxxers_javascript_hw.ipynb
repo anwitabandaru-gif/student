{
 "cells": [
  {
   "cell_type": "raw",
   "id": "6290bcd2",
   "metadata": {
    "vscode": {
     "languageId": "raw"
    }
   },
   "source": [
    "---\n",
    "title: \"Mathematical Operations in Javascript and Python - Hacks\"\n",
    "description: \"Apply your skills of math, logic, and coding.\"\n",
    "layout: base\n",
    "permalink: /javascript/mathematical-expressions/\n",
    "---"
   ]
  },
  {
   "cell_type": "markdown",
   "id": "d98b569e",
   "metadata": {},
   "source": [
    "# Basic Algebraic Math hacks\n",
    "\n",
    "## Q1 (Exponents):\n",
    "### A cube has a side length of 6 units. What is its volume?"
   ]
  },
  {
   "cell_type": "code",
   "execution_count": 2,
   "id": "235ceb13",
   "metadata": {
    "vscode": {
     "languageId": "javascript"
    }
   },
   "outputs": [
    {
     "data": {
      "application/javascript": "let side = 6\nlet volume = (side**3)\nconsole.log(volume)\n",
      "text/plain": [
       "<IPython.core.display.Javascript object>"
      ]
     },
     "metadata": {},
     "output_type": "display_data"
    }
   ],
   "source": [
    "%%js\n",
    "let side = 6\n",
    "let volume = (side**3)\n",
    "console.log(volume)\n"
   ]
  },
  {
   "cell_type": "markdown",
   "id": "3fb1dd4d",
   "metadata": {},
   "source": [
    "## Q2 (PEMDAS):\n",
    "### Evaluate the expression: \n",
    "\n",
    "(7+14)*5/12 + 2"
   ]
  },
  {
   "cell_type": "code",
   "execution_count": 3,
   "id": "49d712a3",
   "metadata": {
    "vscode": {
     "languageId": "javascript"
    }
   },
   "outputs": [
    {
     "data": {
      "application/javascript": "let num = (7+14)\nlet product = (num*5)\nlet quotient = (product/12)\nlet sum = (quotient+2)\nconsole.log(sum)\n",
      "text/plain": [
       "<IPython.core.display.Javascript object>"
      ]
     },
     "metadata": {},
     "output_type": "display_data"
    }
   ],
   "source": [
    "%%js\n",
    "let num = (7+14)\n",
    "let product = (num*5)\n",
    "let quotient = (product/12)\n",
    "let sum = (quotient+2)\n",
    "console.log(sum)"
   ]
  },
  {
   "cell_type": "markdown",
   "id": "fcaa4762",
   "metadata": {},
   "source": [
    "## Q3 (Algorithm): \n",
    "\n",
    "Write JavaScript  code where you define variables and run commands that find the values of operations you apply onto them"
   ]
  },
  {
   "cell_type": "code",
   "execution_count": 4,
   "id": "0a2081a9",
   "metadata": {
    "vscode": {
     "languageId": "javascript"
    }
   },
   "outputs": [
    {
     "data": {
      "application/javascript": "let a = 10;\nlet b = 4;\nlet c = 3;\n\nlet sum = a + b;\nlet difference = a - b;\nlet product = a * c;\nlet quotient = a / b;\nlet remainder = a % c;\n\nlet isGreater = a > b;\nlet isEqual = b === c;\n\nconsole.log(\"a + b =\", sum);\nconsole.log(\"a - b =\", difference);\nconsole.log(\"a * c =\", product);\nconsole.log(\"a / b =\", quotient);\nconsole.log(\"a % c =\", remainder);\nconsole.log(\"Is a > b? \", isGreater);\nconsole.log(\"Is b === c? \", isEqual);\n",
      "text/plain": [
       "<IPython.core.display.Javascript object>"
      ]
     },
     "metadata": {},
     "output_type": "display_data"
    }
   ],
   "source": [
    "%%js \n",
    "let a = 10;\n",
    "let b = 4;\n",
    "let c = 3;\n",
    "\n",
    "let sum = a + b;\n",
    "let difference = a - b;\n",
    "let product = a * c;\n",
    "let quotient = a / b;\n",
    "let remainder = a % c;\n",
    "\n",
    "let isGreater = a > b;\n",
    "let isEqual = b === c;\n",
    "\n",
    "console.log(\"a + b =\", sum);\n",
    "console.log(\"a - b =\", difference);\n",
    "console.log(\"a * c =\", product);\n",
    "console.log(\"a / b =\", quotient);\n",
    "console.log(\"a % c =\", remainder);\n",
    "console.log(\"Is a > b? \", isGreater);\n",
    "console.log(\"Is b === c? \", isEqual);\n"
   ]
  },
  {
   "cell_type": "markdown",
   "id": "69f77bb1",
   "metadata": {},
   "source": [
    "### Javascrip Outputs for all Hacks"
   ]
  },
  {
   "cell_type": "markdown",
   "id": "c5cc54df",
   "metadata": {
    "vscode": {
     "languageId": "javascript"
    }
   },
   "source": [
    "<img src=\"../../../../images/homework/jsmath.png\" \n",
    "alt=\"Console Output\" style=\"max-width:300px; margin:10px;\"></img>"
   ]
  },
  {
   "cell_type": "markdown",
   "id": "7927eeac",
   "metadata": {},
   "source": [
    "<img src=\"../../../..//images/3_3diagram.png\" \n",
    "alt=\"Diagram showing mathematical operations\" style=\"max-width:300px; margin:10px;\">\n",
    "\n"
   ]
  }
 ],
 "metadata": {
  "kernelspec": {
   "display_name": "venv",
   "language": "python",
   "name": "python3"
  },
  "language_info": {
   "codemirror_mode": {
    "name": "ipython",
    "version": 3
   },
   "file_extension": ".py",
   "mimetype": "text/x-python",
   "name": "python",
   "nbconvert_exporter": "python",
   "pygments_lexer": "ipython3",
   "version": "3.12.3"
  }
 },
 "nbformat": 4,
 "nbformat_minor": 5
}
