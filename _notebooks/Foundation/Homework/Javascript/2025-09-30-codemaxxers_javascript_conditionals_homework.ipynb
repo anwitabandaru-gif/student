{
 "cells": [
  {
   "cell_type": "raw",
   "id": "f9ba8574",
   "metadata": {},
   "source": [
    "---\n",
    "title: \"Conditionals in JavaScript - Hacks\"\n",
    "description: \"Three scaffolded hacks to practice selection (if, else if, else) in JavaScript. No nesting.\"\n",
    "layout: post\n",
    "permalink: /csp/codemaxxers/conditionals/p4/hacks-js/\n",
    "---\n"
   ]
  },
  {
   "cell_type": "markdown",
   "id": "3c712f87",
   "metadata": {},
   "source": [
    "\n",
    "# 🌐 CSP 3.6 Hacks — Conditionals (JavaScript)\n",
    "\n",
    "You will complete **three** small programs that use selection with `if`, `else if`, `else` \n",
    "\n",
    "Answers to common errors:\n",
    "- Please select the JavaScript kernel when running the code, do NOT select python\n",
    "- If the code reports random errors try pressing restart at the top bar\n",
    "- If you get stuck on a problem, make comments about what you understand so far and what you are stuck on\n"
   ]
  },
  {
   "cell_type": "markdown",
   "id": "841773a2",
   "metadata": {},
   "source": [
    "\n",
    "## 🟢 Hack 1 — Number Range Checker (Beginner)\n",
    "\n",
    "**Requirements (spec):**\n",
    "- Ask for a number.\n",
    "- If the number is **between 0 and 10** (inclusive), print the number **then** print `Goodbye`.\n",
    "- Otherwise, print only `Goodbye!`.\n",
    "- Use one `if / else` and combine comparisons with `&&`.\n",
    "\n",
    "**Tips:** use `parseInt(..., 10)`; inclusive means `>=` and `<=`.\n"
   ]
  },
  {
   "cell_type": "code",
   "execution_count": null,
   "id": "496c38dc",
   "metadata": {
    "vscode": {
     "languageId": "javascript"
    }
   },
   "outputs": [],
   "source": [
    "%%js \n",
    "// Starter code \n",
    "var num = 17;  // Change this number to test different inputs\n",
    "\n",
    "// Complete the code below according to the rules above\n",
    "if (num >= 0 && num <= 10) {\n",
    "  console.log(num);\n",
    "  console.log(\"Goodbye\");\n",
    "} else {\n",
    "  console.log(\"Goodbye!\");\n",
    "}"
   ]
  },
  {
   "cell_type": "markdown",
   "id": "4cb35a03",
   "metadata": {},
   "source": [
    "### Javascript Output in Console"
   ]
  },
  {
   "cell_type": "markdown",
   "id": "1aeff101",
   "metadata": {},
   "source": [
    "<img src=\"../../../../../images/conditionals/hack1.png\" \n",
    "alt=\"Console Output\" style=\"max-width:300px; margin:10px;\">"
   ]
  },
  {
   "cell_type": "markdown",
   "id": "93ed4d77",
   "metadata": {},
   "source": [
    "\n",
    "## 🟡 Hack 2 — Grade Evaluator (Intermediate)\n",
    "\n",
    "**Requirements (spec):**\n",
    "- Ask for a grade `0–100`.\n",
    "- If `grade >= 75`, print two lines: `You get extra credit!` then `Have a good day`.\n",
    "- Otherwise, print `Have a good day` only.\n",
    "\n",
    "\n"
   ]
  },
  {
   "cell_type": "code",
   "execution_count": null,
   "id": "e89c7c78",
   "metadata": {
    "vscode": {
     "languageId": "javascript"
    }
   },
   "outputs": [],
   "source": [
    "%%js \n",
    "// Starter code \n",
    "let grade = 85;  // Change this grade to test different cases\n",
    "\n",
    "// TODO:\n",
    "// If grade >= 90 → print \"A\" then \"Have a good day\"\n",
    "// If grade >= 87 but < 90 → print \"Can be rounded to an \"A\", then \"Have a good day\"\n",
    "// Else → print \"Have a good day\"\n",
    "\n",
    "//Complete the code below according to the rules above\n",
    "// Check grade and print appropriate messages\n",
    "if (grade >= 90) {\n",
    "  console.log(\"A\");\n",
    "  console.log(\"Have a good day\");\n",
    "} else if (grade >= 70 && grade < 90) {\n",
    "  console.log(\"Can be rounded to an A\");\n",
    "  console.log(\"Have a good day\");\n",
    "} else if (grade < 70 && grade >= 50) { //THIS IS MY CHANGE\n",
    "  console.log(\"See me after class\");\n",
    "} else {\n",
    "  console.log(\"Have a good day\");\n",
    "}\n"
   ]
  },
  {
   "cell_type": "markdown",
   "id": "4ce42982",
   "metadata": {},
   "source": [
    "### Javascript Output in Console"
   ]
  },
  {
   "cell_type": "markdown",
   "id": "4bdb8d15",
   "metadata": {},
   "source": [
    "<img src=\"../../../../../images/conditionals/hack2.png\" \n",
    "alt=\"Console Output\" style=\"max-width:300px; margin:10px;\">"
   ]
  },
  {
   "cell_type": "markdown",
   "id": "c9774090",
   "metadata": {},
   "source": [
    "\n",
    "## 🔵 Hack 3 — Access Pass (Advanced)\n",
    "\n",
    "**Inputs:** `age` (number), `has_ticket` (`\"yes\"/\"no\"`), `vip` (`\"yes\"/\"no\"`)\n",
    "\n",
    "**Rules**\n",
    "- If `vip === \"yes\"` → `VIP Entrance`\n",
    "- Else if `has_ticket === \"yes\"` **and** `age >= 16` → `General Entrance`\n",
    "- Else if `has_ticket === \"yes\"` **and** `age < 16` → `Minor Entrance (with guardian)`\n",
    "- Else → `No Entrance`\n",
    "\n",
    "**Tip:** normalize strings with `.trim().toLowerCase()`.\n"
   ]
  },
  {
   "cell_type": "code",
   "execution_count": null,
   "id": "9c71990e",
   "metadata": {
    "vscode": {
     "languageId": "javascript"
    }
   },
   "outputs": [],
   "source": [
    "%%js \n",
    "// Starter code (student edits this cell)\n",
    "let age = 19;           //  Change the age\n",
    "let paid_member = \"yes\"; //  Change to \"yes\" or \"no\"\n",
    "let vip = \"yes\";         //  Change to \"yes\" or \"no\"\n",
    "\n",
    "// TODO: Implement ladder using if / else if / else\n",
    "// Rules:\n",
    "// - VIP = \"yes\" → \"VIP Entrance\"\n",
    "// - Ticket = \"yes\" and age >= 16 → \"General Entrance\"\n",
    "// - Ticket = \"yes\" and age < 16 → \"Minor Entrance (with guardian)\"\n",
    "// - Otherwise → \"No Entrance\"\n",
    "\n",
    "// Complete the code below according to the rules above\n",
    "\n",
    "// Normalize string inputs\n",
    "paid_member = paid_member.trim().toLowerCase();\n",
    "vip = vip.trim().toLowerCase();\n",
    "\n",
    "// Implement ladder using if / else if / else\n",
    "if (vip === \"yes\") {\n",
    "  console.log(\"VIP Entrance\");\n",
    "} else if (paid_member === \"yes\" && age >= 16) {\n",
    "  console.log(\"General Entrance\");\n",
    "} else if (paid_member === \"yes\" && age < 16) {\n",
    "  console.log(\"Minor Entrance (with guardian)\");\n",
    "} else {\n",
    "  console.log(\"No Entrance\");\n",
    "}"
   ]
  },
  {
   "cell_type": "markdown",
   "id": "1d3bfdc0",
   "metadata": {},
   "source": [
    "### Javascript Output in Console"
   ]
  },
  {
   "cell_type": "markdown",
   "id": "cfff7032",
   "metadata": {},
   "source": [
    "<img src=\"../../../../../images/conditionals/hack3.png\" \n",
    "alt=\"Console Output\" style=\"max-width:300px; margin:10px;\">"
   ]
  },
  {
   "cell_type": "markdown",
   "id": "398be899",
   "metadata": {},
   "source": [
    "\n",
    "---\n",
    "### Reflection: Think about the following question. Answer in 3-4 sentences\n",
    "- Did any of the question trip you up? If yes, explain the problem and your solution. If no, give a brief, 1-2 sentence summary of conditionals.\n",
    "- Can you think of real life examples where we would use conditionals? Please do NOT use one of the hacks as a real life example\n",
    "- How is javascript different from python in terms of conditionals?"
   ]
  },
  {
   "cell_type": "markdown",
   "id": "0c999c07",
   "metadata": {},
   "source": [
    "1. Did any of the questions trip you up?\n",
    "No, I didn’t have any problems. Conditionals are statements that let a program make decisions. Tf a certain condition is true, one block of code runs. Otherwise, another does.\n",
    "\n",
    "2. Real-life examples of conditionals:\n",
    "A phone could check if its battery is below 20% and then automatically turn on low power mode,if it's not below 20%, then there is no low power mode. \n",
    "\n",
    "3. How JavaScript differs from Python in conditionals:\n",
    "In JavaScript, conditionals use parentheses and curly braces `(if (x > 5) { ... }),` while in Python, they use a colon and indentation `(if x > 5:)`. Also, JavaScript uses `===` for strict equality, whereas Python just uses `==`."
   ]
  },
  {
   "cell_type": "markdown",
   "id": "ed970992",
   "metadata": {},
   "source": [
    "\n",
    "---\n",
    "### 🧾 Turn-in checklist\n",
    "- [ ] All three hacks run and match the rules above them. \n",
    "- [ ] You included at least one changed element for at least one hack, this can be change of message, the range, or the input information (not the input, the prompt for the input). Do not just change the input and call that your personal change.\n",
    "- [ ] You wrote a 2–3 sentence reflection in your portfolio:  \n",
    "  - What conditional form did you use most?  I used if else the most\n",
    "  - What would you like to add to the lesson that would help you better understand the material? I think your lesson was pretty good. Maybe make the instructions less confusing\n"
   ]
  }
 ],
 "metadata": {
  "kernelspec": {
   "display_name": "venv",
   "language": "python",
   "name": "python3"
  },
  "language_info": {
   "codemirror_mode": {
    "name": "ipython",
    "version": 3
   },
   "file_extension": ".py",
   "mimetype": "text/x-python",
   "name": "python",
   "nbconvert_exporter": "python",
   "pygments_lexer": "ipython3",
   "version": "3.12.3"
  }
 },
 "nbformat": 4,
 "nbformat_minor": 5
}
