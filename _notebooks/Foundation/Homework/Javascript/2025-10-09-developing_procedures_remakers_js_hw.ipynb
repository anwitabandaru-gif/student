{
 "cells": [
  {
   "cell_type": "raw",
   "id": "347e901f",
   "metadata": {
    "vscode": {
     "languageId": "raw"
    }
   },
   "source": [
    "---\n",
    "toc: true\n",
    "layout: post\n",
    "categories: [JavaScript]\n",
    "title: Remakers - 3.13 Developing Procedures JS Hacks\n",
    "description: \"Apply your skills to basic procedure development in Javascript.\"\n",
    "permalink: /javascript/developing-procedures/remakers-hw\n",
    "author: Krishna Visvanath, Sloane Sommers\n",
    "---"
   ]
  },
  {
   "cell_type": "raw",
   "id": "38483feb",
   "metadata": {
    "vscode": {
     "languageId": "raw"
    }
   },
   "source": [
    "### Q1 (Easy)\n",
    "Which of these procedures is named wrong, provide a **short** explanation of justification"
   ]
  },
  {
   "cell_type": "code",
   "execution_count": null,
   "id": "690e6f19",
   "metadata": {},
   "outputs": [],
   "source": [
    "%%js\n",
    "\n",
    "function mixIngredients()\n",
    "\n",
    "function doIt()\n",
    "\n",
    "function makeLeftTurn()"
   ]
  },
  {
   "cell_type": "markdown",
   "id": "bff45a3e",
   "metadata": {},
   "source": [
    "**Explanation Here:**\n",
    "doIt() is named wrong because it doesn’t describe what the procedure actually does. Procedure names should clearly indicate their purpose or action (like mixIngredients() or makeLeftTurn()), so someone reading the code can understand it easily without seeing the details."
   ]
  },
  {
   "cell_type": "markdown",
   "id": "e5480b09",
   "metadata": {},
   "source": [
    "### Q2 (Medium)\n",
    "Finish the code to have a correctly named procedure"
   ]
  },
  {
   "cell_type": "code",
   "execution_count": 1,
   "id": "4bc531e4",
   "metadata": {
    "vscode": {
     "languageId": "javascript"
    }
   },
   "outputs": [
    {
     "data": {
      "application/javascript": "function moveForward() {\n    console.log(\"Moving forward.\");\n}\n\nfunction rotate180() {\n    console.log(\"Turning left\");\n}\n\nfunction moveForwardAgain() {\n    console.log(\"Moving forward again to complete left turn.\");\n}\n\nfunction makeLeftTurn() {\n    moveForward();\n    rotate180();\n    moveForwardAgain();\n}\n\nmakeLeftTurn();\n",
      "text/plain": [
       "<IPython.core.display.Javascript object>"
      ]
     },
     "metadata": {},
     "output_type": "display_data"
    }
   ],
   "source": [
    "%%js\n",
    "function moveForward() {\n",
    "    console.log(\"Moving forward.\");\n",
    "}\n",
    "\n",
    "function rotate180() {\n",
    "    console.log(\"Turning left\");\n",
    "}\n",
    "\n",
    "function moveForwardAgain() {\n",
    "    console.log(\"Moving forward again to complete left turn.\");\n",
    "}\n",
    "\n",
    "function makeLeftTurn() {\n",
    "    moveForward();\n",
    "    rotate180();\n",
    "    moveForwardAgain();\n",
    "}\n",
    "\n",
    "makeLeftTurn();"
   ]
  },
  {
   "cell_type": "markdown",
   "id": "580b1936",
   "metadata": {},
   "source": [
    "<img src=\"../../../../../student/images/devpro/hack1.png\" \n",
    "alt=\"Console Output\" style=\"max-width:300px; margin:10px;\">"
   ]
  },
  {
   "cell_type": "code",
   "execution_count": null,
   "id": "d6c06eb0",
   "metadata": {
    "vscode": {
     "languageId": "javascript"
    }
   },
   "outputs": [],
   "source": [
    "### Q3 (Hard)\n",
    "Write code to fulfill the requirements\n",
    "Doing a dance! 🕺💃\n",
    "Must have\n",
    "1. A shimmy left procedure\n",
    "- Print `super cool left slide`\n",
    "2. A shimmy right procedure, print `even cooler right slide`\n",
    "3. Doing a bow to the crowd, print `Great dance!`, `the audience claps at your bow!`"
   ]
  },
  {
   "cell_type": "code",
   "execution_count": 3,
   "id": "818139d1",
   "metadata": {
    "vscode": {
     "languageId": "javascript"
    }
   },
   "outputs": [
    {
     "data": {
      "application/javascript": "function shimmyLeft() {\n    console.log(\"super cool left slide\");\n}\n\nfunction shimmyRight() {\n    console.log(\"even cooler right slide\");\n}\n\nfunction bowToCrowd() {\n    console.log(\"Great dance!\");\n    console.log(\"the audience claps at your bow!\");\n}\n\nshimmyLeft();\nshimmyRight();\nbowToCrowd();\n",
      "text/plain": [
       "<IPython.core.display.Javascript object>"
      ]
     },
     "metadata": {},
     "output_type": "display_data"
    }
   ],
   "source": [
    "%%js \n",
    "function shimmyLeft() {\n",
    "    console.log(\"super cool left slide\");\n",
    "}\n",
    "\n",
    "function shimmyRight() {\n",
    "    console.log(\"even cooler right slide\");\n",
    "}\n",
    "\n",
    "function bowToCrowd() {\n",
    "    console.log(\"Great dance!\");\n",
    "    console.log(\"the audience claps at your bow!\");\n",
    "}\n",
    "\n",
    "shimmyLeft();\n",
    "shimmyRight();\n",
    "bowToCrowd();"
   ]
  },
  {
   "cell_type": "markdown",
   "id": "df9c0465",
   "metadata": {},
   "source": [
    "<img src=\"../../../../../student/images/devpro/hack2.png\" \n",
    "alt=\"Console Output\" style=\"max-width:300px; margin:10px;\">"
   ]
  }
 ],
 "metadata": {
  "kernelspec": {
   "display_name": "venv",
   "language": "python",
   "name": "python3"
  },
  "language_info": {
   "codemirror_mode": {
    "name": "ipython",
    "version": 3
   },
   "file_extension": ".py",
   "mimetype": "text/x-python",
   "name": "python",
   "nbconvert_exporter": "python",
   "pygments_lexer": "ipython3",
   "version": "3.12.3"
  }
 },
 "nbformat": 4,
 "nbformat_minor": 5
}
