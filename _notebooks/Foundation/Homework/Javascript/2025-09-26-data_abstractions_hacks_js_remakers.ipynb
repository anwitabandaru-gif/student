{
 "cells": [
  {
   "cell_type": "raw",
   "id": "e4102f0e",
   "metadata": {
    "vscode": {
     "languageId": "raw"
    }
   },
   "source": [
    "---\n",
    "toc: true\n",
    "comments: false\n",
    "layout: base\n",
    "categories: [CSP Big Idea 3]\n",
    "title: 3.2 Data Abstractions JS Hack\n",
    "author: Jaynee Chauhan, Michelle Ji, Lucas Masterson\n",
    "description: Hack(s) for intro to data abstractions in JS.\n",
    "type: ccc\n",
    "permalink: /data-abstractions/p4/hacks-js\n",
    "---"
   ]
  },
  {
   "cell_type": "markdown",
   "id": "690b4172",
   "metadata": {},
   "source": [
    "## JS Lab: Library\n",
    "\n",
    "In this lab, similarly to the Python lab, you'll be working on a simple \"database\" for a library to understand CRUD operations in relation to representing redundant, similar data under one structure -- an abstraction.\n",
    "\n",
    "For JavaScript, you'll have to open the web console from Developer Tools (`ctrl + shift + p` -> `Developer: Toggle developer tools`)."
   ]
  },
  {
   "cell_type": "code",
   "execution_count": 28,
   "id": "d7228dda",
   "metadata": {
    "vscode": {
     "languageId": "javascript"
    }
   },
   "outputs": [
    {
     "data": {
      "application/javascript": "// Our \"database\" is an array of objects, each representing a book in a library.\n// Arrays allow us to store multiple records in a single variable, making it easy to manage collections of data.\nlet library = [\n    { title: \"1984\", author: \"George Orwell\", checkedOut: false },\n    { title: \"To Kill a Mockingbird\", author: \"Harper Lee\", checkedOut: true },\n    { title: \"The Great Gatsby\", author: \"F. Scott Fitzgerald\", checkedOut: false }\n];\n\n// Arrays provide order and allow us to add, remove, or update records efficiently.\n// Each element in the array is an object, which abstracts the details of each book.\n\n// Function to display all books\nfunction displayLibrary(lib) {\n    console.log(\"All books in the library:\");\n    lib.forEach((book, i) => {\n        console.log(`Index ${i}:`, book);\n    });\n}\n\n// Function to add a new book (students: implement prompt and push logic)\nfunction addBook(lib) {\n    // TODO: Prompt user for title, author, and checkedOut status, then push to library (array)\n    // Use array's push() method to add new books.\n    // Example:\n    let newBook = { title: \"New Book\", author: \"Author Name\", checkedOut: false };\n    lib.push(newBook);\n    console.log(\"Added new book:\", newBook);\n    displayLibrary(lib);\n}\n\n// Function to find a book by title (students: implement search logic)\nfunction findBook(lib, searchTitle) {\n    // TODO: Search for a book with matching title and print it\n    // You can loop through the array to find the matching object.\n    let foundBook = lib.find(book => book.title === searchTitle);\n    if (foundBook) {\n        console.log(\"Found book:\", foundBook);\n    } else {\n        console.log(\"Book not found:\", searchTitle);\n    }\n}\n\n// Function to update a book's checkedOut status (students: implement update logic)\nfunction updateBook(lib, searchTitle) {\n    // TODO: Find book by title and update its checkedOut field\n    // Use array indexing to access and update the object.\n    let book = lib.find(book => book.title === searchTitle);\n    if (book) {\n        book.checkedOut = !book.checkedOut; // Toggle checkedOut status\n        console.log(\"Updated book:\", book);\n    } else {\n        console.log(\"Book not found for update:\", searchTitle);\n    }\n    displayLibrary(lib);\n}\n\n// Function to delete a book (students: implement delete logic)\nfunction deleteBook(lib, searchTitle) {\n    // TODO: Remove book with matching title from library\n    // Use array methods like splice() to delete a book.\n    let index = lib.findIndex(book => book.title === searchTitle);\n    if (index !== -1) {\n        let removedBook = lib.splice(index, 1);\n        console.log(\"Deleted book:\", removedBook[0]);\n    } else {\n        console.log(\"Book not found for deletion:\", searchTitle);\n    }\n    displayLibrary(lib);\n}\n\n// Example usage\ndisplayLibrary(library);\n// Students: Uncomment and complete the following as you implement\naddBook(library);\nfindBook(library, \"1984\");\nupdateBook(library, \"To Kill a Mockingbird\");\ndeleteBook(library, \"The Great Gatsby\");\n",
      "text/plain": [
       "<IPython.core.display.Javascript object>"
      ]
     },
     "metadata": {},
     "output_type": "display_data"
    }
   ],
   "source": [
    "%%js  \n",
    "// Our \"database\" is an array of objects, each representing a book in a library.\n",
    "// Arrays allow us to store multiple records in a single variable, making it easy to manage collections of data.\n",
    "let library = [\n",
    "    { title: \"1984\", author: \"George Orwell\", checkedOut: false },\n",
    "    { title: \"To Kill a Mockingbird\", author: \"Harper Lee\", checkedOut: true },\n",
    "    { title: \"The Great Gatsby\", author: \"F. Scott Fitzgerald\", checkedOut: false }\n",
    "];\n",
    "\n",
    "// Arrays provide order and allow us to add, remove, or update records efficiently.\n",
    "// Each element in the array is an object, which abstracts the details of each book.\n",
    "\n",
    "// Function to display all books\n",
    "function displayLibrary(lib) {\n",
    "    console.log(\"All books in the library:\");\n",
    "    lib.forEach((book, i) => {\n",
    "        console.log(`Index ${i}:`, book);\n",
    "    });\n",
    "}\n",
    "\n",
    "// Function to add a new book (students: implement prompt and push logic)\n",
    "function addBook(lib) {\n",
    "    // TODO: Prompt user for title, author, and checkedOut status, then push to library (array)\n",
    "    // Use array's push() method to add new books.\n",
    "    // Example:\n",
    "    let newBook = { title: \"New Book\", author: \"Author Name\", checkedOut: false };\n",
    "    lib.push(newBook);\n",
    "    console.log(\"Added new book:\", newBook);\n",
    "    displayLibrary(lib);\n",
    "}\n",
    "\n",
    "// Function to find a book by title (students: implement search logic)\n",
    "function findBook(lib, searchTitle) {\n",
    "    // TODO: Search for a book with matching title and print it\n",
    "    // You can loop through the array to find the matching object.\n",
    "    let foundBook = lib.find(book => book.title === searchTitle);\n",
    "    if (foundBook) {\n",
    "        console.log(\"Found book:\", foundBook);\n",
    "    } else {\n",
    "        console.log(\"Book not found:\", searchTitle);\n",
    "    }\n",
    "}\n",
    "\n",
    "// Function to update a book's checkedOut status (students: implement update logic)\n",
    "function updateBook(lib, searchTitle) {\n",
    "    // TODO: Find book by title and update its checkedOut field\n",
    "    // Use array indexing to access and update the object.\n",
    "    let book = lib.find(book => book.title === searchTitle);\n",
    "    if (book) {\n",
    "        book.checkedOut = !book.checkedOut; // Toggle checkedOut status\n",
    "        console.log(\"Updated book:\", book);\n",
    "    } else {\n",
    "        console.log(\"Book not found for update:\", searchTitle);\n",
    "    }\n",
    "    displayLibrary(lib);\n",
    "}\n",
    "\n",
    "// Function to delete a book (students: implement delete logic)\n",
    "function deleteBook(lib, searchTitle) {\n",
    "    // TODO: Remove book with matching title from library\n",
    "    // Use array methods like splice() to delete a book.\n",
    "    let index = lib.findIndex(book => book.title === searchTitle);\n",
    "    if (index !== -1) {\n",
    "        let removedBook = lib.splice(index, 1);\n",
    "        console.log(\"Deleted book:\", removedBook[0]);\n",
    "    } else {\n",
    "        console.log(\"Book not found for deletion:\", searchTitle);\n",
    "    }\n",
    "    displayLibrary(lib);\n",
    "}\n",
    "\n",
    "// Example usage\n",
    "displayLibrary(library);\n",
    "// Students: Uncomment and complete the following as you implement\n",
    "addBook(library);\n",
    "findBook(library, \"1984\");\n",
    "updateBook(library, \"To Kill a Mockingbird\");\n",
    "deleteBook(library, \"The Great Gatsby\");"
   ]
  },
  {
   "cell_type": "markdown",
   "id": "7ad3b196",
   "metadata": {},
   "source": [
    "### Javascrip Outputs for all Hacks"
   ]
  },
  {
   "cell_type": "markdown",
   "id": "25ed18d6",
   "metadata": {
    "vscode": {
     "languageId": "raw"
    }
   },
   "source": [
    "<img src=\"../../../../images/homework/jsdataab.png\" \n",
    "alt=\"Console Output\" style=\"max-width:300px; margin:10px;\">"
   ]
  }
 ],
 "metadata": {
  "kernelspec": {
   "display_name": "venv",
   "language": "python",
   "name": "python3"
  },
  "language_info": {
   "codemirror_mode": {
    "name": "ipython",
    "version": 3
   },
   "file_extension": ".py",
   "mimetype": "text/x-python",
   "name": "python",
   "nbconvert_exporter": "python",
   "pygments_lexer": "ipython3",
   "version": "3.12.3"
  }
 },
 "nbformat": 4,
 "nbformat_minor": 5
}
