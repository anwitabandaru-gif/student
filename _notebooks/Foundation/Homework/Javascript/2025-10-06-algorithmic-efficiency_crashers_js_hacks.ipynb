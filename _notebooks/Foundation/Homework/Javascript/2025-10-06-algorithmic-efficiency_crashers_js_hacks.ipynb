{
 "cells": [
  {
   "cell_type": "raw",
   "id": "4e3e77eb",
   "metadata": {
    "vscode": {
     "languageId": "raw"
    }
   },
   "source": [
    "---\n",
    "layout: post\n",
    "title: \"Crashers - 3.17 Algorithmic Efficiency Javascript Hacks\"\n",
    "categories: [Javascript]\n",
    "tags: [python, javascript, algorithms, lesson, beginner]\n",
    "description: Learn about algorithms and how they can be more or less efficient\n",
    "permalink: /javascript/algorithmic-efficiency/crashers-hw\n",
    "---"
   ]
  },
  {
   "cell_type": "markdown",
   "id": "825f983c",
   "metadata": {},
   "source": [
    "## Algorithmic Efficiency Hacks: Javascript\n",
    "\n",
    "Let's test your knowledge on algorithmic efficiency!\n",
    "\n",
    "### Hack 1: How Much Time?\n",
    "\n",
    "#### Objective: write the time complexity of the algorithm below using Big-O notation.\n",
    "(don't worry about special cases such as n = 1 or n = 0)."
   ]
  },
  {
   "cell_type": "code",
   "execution_count": 7,
   "id": "1fc4bcce",
   "metadata": {
    "vscode": {
     "languageId": "javascript"
    }
   },
   "outputs": [
    {
     "data": {
      "application/javascript": "\nlet n = 5; // change this value to test different outputs!\n\nfor (let i = 0; i < n * 2; i++) {\n    console.log(i);\n}\n\nconsole.log(\"O(n)\")\n",
      "text/plain": [
       "<IPython.core.display.Javascript object>"
      ]
     },
     "metadata": {},
     "output_type": "display_data"
    }
   ],
   "source": [
    "%%javascript\n",
    "\n",
    "let n = 5; // change this value to test different outputs!\n",
    "\n",
    "for (let i = 0; i < n * 2; i++) {\n",
    "    console.log(i);\n",
    "}\n",
    "\n",
    "console.log(\"O(n)\")\n"
   ]
  },
  {
   "cell_type": "markdown",
   "id": "33e9f2ff",
   "metadata": {},
   "source": [
    "<img src=\"../../../../../student/images/algoeff/hack1.png\" \n",
    "alt=\"Console Output\" style=\"max-width:300px; margin:10px;\">"
   ]
  },
  {
   "cell_type": "markdown",
   "id": "4e562838",
   "metadata": {},
   "source": [
    "### Hack 2: Your Turn!\n",
    "\n",
    "#### Objective: <strong>write</strong> an algorithm with O(n^2) time complexity."
   ]
  },
  {
   "cell_type": "code",
   "execution_count": 10,
   "id": "f9394969",
   "metadata": {
    "vscode": {
     "languageId": "javascript"
    }
   },
   "outputs": [
    {
     "data": {
      "application/javascript": "const n = 5;\n\nfor (let i = 0; i < n; i++) {\n    for (let j = 0; j < n; j++) {\n        console.log(`i=${i}, j=${j}`);\n    }\n}\n",
      "text/plain": [
       "<IPython.core.display.Javascript object>"
      ]
     },
     "metadata": {},
     "output_type": "display_data"
    }
   ],
   "source": [
    "%%javascript\n",
    "const n = 5;\n",
    "\n",
    "for (let i = 0; i < n; i++) {\n",
    "    for (let j = 0; j < n; j++) {\n",
    "        console.log(`i=${i}, j=${j}`);\n",
    "    }\n",
    "}"
   ]
  },
  {
   "cell_type": "markdown",
   "id": "65724c9c",
   "metadata": {},
   "source": [
    "<img src=\"../../../../../student/images/algoeff/hack2.png\" \n",
    "alt=\"Console Output\" style=\"max-width:300px; margin:10px;\">"
   ]
  },
  {
   "cell_type": "markdown",
   "id": "26d353f3",
   "metadata": {},
   "source": [
    "### Hack 3: Gotta Go Fast!\n",
    "\n",
    "#### Objective: Optimize this algorithm so that it has a lower time complexity <strong>without modifying the outer loop</strong>"
   ]
  },
  {
   "cell_type": "code",
   "execution_count": 11,
   "id": "83acbe82",
   "metadata": {
    "vscode": {
     "languageId": "javascript"
    }
   },
   "outputs": [
    {
     "data": {
      "application/javascript": "const n = 10;\nlet count = 0;\n\nfor (let i = 0; i < n; i++) {\n    count += i; \n}\n\nconsole.log(count);\n//TODO: Modify the algorithm so that it has a lower time complexity but same output, and keep the outer loop the same\n//Hint: This algorithm has a time complexity of O(n^2).\n",
      "text/plain": [
       "<IPython.core.display.Javascript object>"
      ]
     },
     "metadata": {},
     "output_type": "display_data"
    }
   ],
   "source": [
    "%%javascript\n",
    "const n = 10;\n",
    "let count = 0;\n",
    "\n",
    "for (let i = 0; i < n; i++) {\n",
    "    count += i; \n",
    "}\n",
    "\n",
    "console.log(count);\n",
    "//TODO: Modify the algorithm so that it has a lower time complexity but same output, and keep the outer loop the same\n",
    "//Hint: This algorithm has a time complexity of O(n^2)."
   ]
  },
  {
   "cell_type": "markdown",
   "id": "d0a51902",
   "metadata": {},
   "source": [
    "<img src=\"../../../../../student/images/algoeff/hack3.png\" \n",
    "alt=\"Console Output\" style=\"max-width:300px; margin:10px;\">"
   ]
  },
  {
   "cell_type": "markdown",
   "id": "e6e45a7b",
   "metadata": {},
   "source": [
    "### Hack 4: Extra Challenge \n",
    "\n",
    "#### Objective: Write an algorithm that does <strong>NOT</strong> have a time complexity of O(1), O(n), or O(n^x) and identify the time complexity\n",
    "##### (I will not accept O(n^3) or some other power, it needs to be more complex.)"
   ]
  },
  {
   "cell_type": "code",
   "execution_count": 12,
   "id": "87c33c6e",
   "metadata": {
    "vscode": {
     "languageId": "javascript"
    }
   },
   "outputs": [
    {
     "data": {
      "application/javascript": "const n = 10; \n\nfunction fibonacci(k) {\n    if (k <= 1) return k;\n    return fibonacci(k - 1) + fibonacci(k - 2);\n}\n\nconsole.log(`Fibonacci(${n}) = ${fibonacci(n)}`);\n",
      "text/plain": [
       "<IPython.core.display.Javascript object>"
      ]
     },
     "metadata": {},
     "output_type": "display_data"
    }
   ],
   "source": [
    "%%js \n",
    "const n = 10; \n",
    "\n",
    "function fibonacci(k) {\n",
    "    if (k <= 1) return k;\n",
    "    return fibonacci(k - 1) + fibonacci(k - 2);\n",
    "}\n",
    "\n",
    "console.log(`Fibonacci(${n}) = ${fibonacci(n)}`);\n"
   ]
  },
  {
   "cell_type": "markdown",
   "id": "f95a9abd",
   "metadata": {},
   "source": [
    "<img src=\"../../../../../student/images/algoeff/hack4.png\" \n",
    "alt=\"Console Output\" style=\"max-width:300px; margin:10px;\">"
   ]
  }
 ],
 "metadata": {
  "kernelspec": {
   "display_name": "venv",
   "language": "python",
   "name": "python3"
  },
  "language_info": {
   "codemirror_mode": {
    "name": "ipython",
    "version": 3
   },
   "file_extension": ".py",
   "mimetype": "text/x-python",
   "name": "python",
   "nbconvert_exporter": "python",
   "pygments_lexer": "ipython3",
   "version": "3.12.3"
  }
 },
 "nbformat": 4,
 "nbformat_minor": 5
}
