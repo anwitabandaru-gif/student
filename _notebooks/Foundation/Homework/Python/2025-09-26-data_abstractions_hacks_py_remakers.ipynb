{
 "cells": [
  {
   "cell_type": "raw",
   "id": "ca7c3f46",
   "metadata": {
    "vscode": {
     "languageId": "raw"
    }
   },
   "source": [
    "---\n",
    "toc: true\n",
    "comments: false\n",
    "layout: base\n",
    "categories: [CSP Big Idea 3]\n",
    "title: 3.2 Data Abstractions Python Hack\n",
    "author: Jaynee Chauhan, Michelle Ji, Lucas Masterson\n",
    "description: Hack(s) for intro to data abstractions in Python.\n",
    "type: ccc\n",
    "permalink: /data-abstractions/p4/hacks-py\n",
    "---"
   ]
  },
  {
   "cell_type": "markdown",
   "id": "14d2f5f9",
   "metadata": {},
   "source": [
    "## Python Lab: Simple DBs\n",
    "\n",
    "In this lab, you'll be working on a simple \"database\" system consisting of dictionaries. The idea here is to understand some basic CRUD actions and how you can use data abstractions (dictionaries in this case) to represent redundant, similar data under a unified structure.\n",
    "\n",
    "You'll have to do some research about some Python syntax for this!\n",
    "\n",
    "You can complete the Python lab by simply running your code and getting your outputs in the Jupyter notebook."
   ]
  },
  {
   "cell_type": "code",
   "execution_count": 9,
   "id": "04367227",
   "metadata": {},
   "outputs": [
    {
     "name": "stdout",
     "output_type": "stream",
     "text": [
      "All records in the list:\n",
      "Index 0: {'name': 'Alice', 'age': 16, 'grade': 'A'}\n",
      "Index 1: {'name': 'Bob', 'age': 17, 'grade': 'B'}\n",
      "Index 2: {'name': 'Charlie', 'age': 16, 'grade': 'C'}\n",
      "\n",
      "Record added: {'name': 'Bob', 'age': 17, 'grade': 'B'}\n",
      "All records in the list:\n",
      "Index 0: {'name': 'Alice', 'age': 16, 'grade': 'A'}\n",
      "Index 1: {'name': 'Bob', 'age': 17, 'grade': 'B'}\n",
      "Index 2: {'name': 'Charlie', 'age': 16, 'grade': 'C'}\n",
      "Index 3: {'name': 'Bob', 'age': 17, 'grade': 'B'}\n",
      "\n",
      "Found record: {'name': 'Alice', 'age': 16, 'grade': 'A'}\n",
      "Updated record: {'name': 'Bob', 'age': 15, 'grade': 'C'}\n",
      "All records in the list:\n",
      "Index 0: {'name': 'Alice', 'age': 16, 'grade': 'A'}\n",
      "Index 1: {'name': 'Bob', 'age': 15, 'grade': 'C'}\n",
      "Index 2: {'name': 'Charlie', 'age': 16, 'grade': 'C'}\n",
      "Index 3: {'name': 'Bob', 'age': 17, 'grade': 'B'}\n",
      "\n",
      "Deleted record: {'name': 'Charlie', 'age': 16, 'grade': 'C'}\n",
      "All records in the list:\n",
      "Index 0: {'name': 'Alice', 'age': 16, 'grade': 'A'}\n",
      "Index 1: {'name': 'Bob', 'age': 15, 'grade': 'C'}\n",
      "Index 2: {'name': 'Bob', 'age': 17, 'grade': 'B'}\n",
      "\n"
     ]
    }
   ],
   "source": [
    "# Our \"database\" is a list of dictionaries, each representing a record (e.g., a student)\n",
    "db = [\n",
    "    {\"name\": \"Alice\", \"age\": 16, \"grade\": \"A\"},\n",
    "    {\"name\": \"Bob\", \"age\": 17, \"grade\": \"B\"},\n",
    "    {\"name\": \"Charlie\", \"age\": 16, \"grade\": \"C\"}\n",
    "]\n",
    "\n",
    "# Function to display all records\n",
    "def display_db(database):\n",
    "    print(\"All records in the list:\")\n",
    "    for i, record in enumerate(database):\n",
    "        print(f\"Index {i}: {record}\")\n",
    "    print()\n",
    "\n",
    "# Function to add a new record\n",
    "def add_record(database):\n",
    "    name = input(\"Enter name: \")\n",
    "    age = int(input(\"Enter age: \"))\n",
    "    grade = input(\"Enter grade: \")\n",
    "    new_record = {\"name\": name, \"age\": age, \"grade\": grade}\n",
    "    database.append(new_record)\n",
    "    print(\"Record added:\", new_record)\n",
    "    display_db(database)\n",
    "\n",
    "# Function to find a record by name\n",
    "def find_record(database, search_name):\n",
    "    for record in database:\n",
    "        if record[\"name\"] == search_name:\n",
    "            print(\"Found record:\", record)\n",
    "            return\n",
    "    print(\"Record not found:\", search_name)\n",
    "\n",
    "# Function to update a record\n",
    "def update_record(database, search_name):\n",
    "    for record in database:\n",
    "        if record[\"name\"] == search_name:\n",
    "            new_age = int(input(f\"Enter new age for {search_name} (current: {record['age']}): \"))\n",
    "            new_grade = input(f\"Enter new grade for {search_name} (current: {record['grade']}): \")\n",
    "            record[\"age\"] = new_age\n",
    "            record[\"grade\"] = new_grade\n",
    "            print(\"Updated record:\", record)\n",
    "            display_db(database)\n",
    "            return\n",
    "    print(\"Record not found for update:\", search_name)\n",
    "\n",
    "# Function to delete a record\n",
    "def delete_record(database, search_name):\n",
    "    for i, record in enumerate(database):\n",
    "        if record[\"name\"] == search_name:\n",
    "            del database[i]\n",
    "            print(\"Deleted record:\", record)\n",
    "            display_db(database)\n",
    "            return\n",
    "    print(\"Record not found for deletion:\", search_name)\n",
    "\n",
    "# Example usage\n",
    "display_db(db)\n",
    "add_record(db)\n",
    "find_record(db, \"Alice\")\n",
    "update_record(db, \"Bob\")\n",
    "delete_record(db, \"Charlie\")\n"
   ]
  }
 ],
 "metadata": {
  "kernelspec": {
   "display_name": "venv",
   "language": "python",
   "name": "python3"
  },
  "language_info": {
   "codemirror_mode": {
    "name": "ipython",
    "version": 3
   },
   "file_extension": ".py",
   "mimetype": "text/x-python",
   "name": "python",
   "nbconvert_exporter": "python",
   "pygments_lexer": "ipython3",
   "version": "3.12.3"
  }
 },
 "nbformat": 4,
 "nbformat_minor": 5
}
