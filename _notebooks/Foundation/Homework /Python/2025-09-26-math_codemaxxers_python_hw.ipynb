{
 "cells": [
  {
   "cell_type": "raw",
   "id": "6290bcd2",
   "metadata": {
    "vscode": {
     "languageId": "raw"
    }
   },
   "source": [
    "---\n",
    "title: \"Mathematical Operations in Javascript and Python - Hacks\"\n",
    "description: \"Apply your skills of math, logic, and coding.\"\n",
    "layout: base\n",
    "permalink: /python/mathematical-expressions/\n",
    "---"
   ]
  },
  {
   "cell_type": "markdown",
   "id": "d98b569e",
   "metadata": {},
   "source": [
    "# Basic Algebraic Math hacks\n",
    "\n",
    "## Q1 (Exponents):\n",
    "### A cube has a side length of 4 units. What is its volume?"
   ]
  },
  {
   "cell_type": "code",
   "execution_count": 3,
   "id": "235ceb13",
   "metadata": {},
   "outputs": [
    {
     "name": "stdout",
     "output_type": "stream",
     "text": [
      "64\n"
     ]
    }
   ],
   "source": [
    "side = 4\n",
    "volume = (side**3)\n",
    "print (volume)"
   ]
  },
  {
   "cell_type": "markdown",
   "id": "3fb1dd4d",
   "metadata": {},
   "source": [
    "## Q2 (PEMDAS):\n",
    "### Evaluate the expression: \n",
    "\n",
    " (12+8)/2+(3^2)"
   ]
  },
  {
   "cell_type": "code",
   "execution_count": 2,
   "id": "49d712a3",
   "metadata": {},
   "outputs": [
    {
     "name": "stdout",
     "output_type": "stream",
     "text": [
      "19.0\n"
     ]
    }
   ],
   "source": [
    "sum = (12+8)\n",
    "quotient = (sum/2)\n",
    "product = (3**2)\n",
    "sum = (quotient+product)\n",
    "print (sum)"
   ]
  },
  {
   "cell_type": "markdown",
   "id": "fcaa4762",
   "metadata": {},
   "source": [
    "## Q3 (Algorithm): \n",
    "\n",
    "Write Python  code where you define variables and run commands that find the values of operations you apply onto them"
   ]
  },
  {
   "cell_type": "code",
   "execution_count": 1,
   "id": "0a2081a9",
   "metadata": {},
   "outputs": [
    {
     "name": "stdout",
     "output_type": "stream",
     "text": [
      "a + b = 14\n",
      "a - b = 6\n",
      "a * c = 30\n",
      "a / b = 2.5\n",
      "a % c = 1\n",
      "Is a > b?  True\n",
      "Is b == c?  False\n",
      "a ** c = 1000\n"
     ]
    }
   ],
   "source": [
    "a = 10\n",
    "b = 4\n",
    "c = 3\n",
    "\n",
    "sum_result = a + b\n",
    "difference = a - b\n",
    "product = a * c\n",
    "quotient = a / b\n",
    "remainder = a % c\n",
    "epx = a ** c  \n",
    "\n",
    "is_greater = a > b\n",
    "is_equal = b == c\n",
    "\n",
    "print(\"a + b =\", sum_result)\n",
    "print(\"a - b =\", difference)\n",
    "print(\"a * c =\", product)\n",
    "print(\"a / b =\", quotient)\n",
    "print(\"a % c =\", remainder)\n",
    "print(\"Is a > b? \", is_greater)\n",
    "print(\"Is b == c? \", is_equal)\n",
    "print(\"a ** c =\", epx)"
   ]
  },
  {
   "cell_type": "markdown",
   "id": "40a2f9a8",
   "metadata": {},
   "source": [
    "<img src=\"/images/3_3diagram.png\" alt=\"Diagram showing mathematical operations\" style=\"max-width:300px; margin:10px;\">\n"
   ]
  }
 ],
 "metadata": {
  "kernelspec": {
   "display_name": "venv",
   "language": "python",
   "name": "python3"
  },
  "language_info": {
   "codemirror_mode": {
    "name": "ipython",
    "version": 3
   },
   "file_extension": ".py",
   "mimetype": "text/x-python",
   "name": "python",
   "nbconvert_exporter": "python",
   "pygments_lexer": "ipython3",
   "version": "3.12.3"
  }
 },
 "nbformat": 4,
 "nbformat_minor": 5
}
