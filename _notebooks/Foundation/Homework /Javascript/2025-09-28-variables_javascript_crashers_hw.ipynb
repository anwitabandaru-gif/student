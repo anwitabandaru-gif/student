{
 "cells": [
  {
   "cell_type": "raw",
   "id": "f7d70aa2",
   "metadata": {
    "vscode": {
     "languageId": "raw"
    }
   },
   "source": [
    "---\n",
    "layout: base\n",
    "title: \"3.1 Variables & Assignments hacks\"\n",
    "categories: [Programming Fundamentals, Tutorial]\n",
    "tags: [python, javascript, variables, assignment, beginner]\n",
    "description: Apply your understanding of Variables & Assignments with these hacks\n",
    "author: Aditya Srivastava, Laya Balaji\n",
    "permalink: /javascript/variables/\n",
    "---"
   ]
  },
  {
   "cell_type": "markdown",
   "id": "ce56910b",
   "metadata": {},
   "source": [
    "# 🐷 Peppa Maze Variables & Assignments Hacks\n",
    "Welcome to the Peppa Maze hacks! These challenges will test your understanding of variables, assignments, and logic in Javascript. Read each task, then write or modify code to solve it."
   ]
  },
  {
   "cell_type": "markdown",
   "id": "7dee3bb5",
   "metadata": {},
   "source": [
    "## Hack 1: JavaScript - Variable Assignment, Naming, and Operators\n",
    "Create variables for Peppa's name, score, and level using good JavaScript naming conventions. Assign initial values, then use operators to update score (add 10) and level (multiply by 2). Print all results."
   ]
  },
  {
   "cell_type": "code",
   "execution_count": 4,
   "id": "e4bee113",
   "metadata": {
    "vscode": {
     "languageId": "javascript"
    }
   },
   "outputs": [
    {
     "data": {
      "application/javascript": "let peppa_name = \"Peppa\";\nlet peppa_score = 50;\nlet peppa_level = 1;\n\npeppa_score = peppa_score + 10;   \npeppa_level = peppa_level * 2;\n\nconsole.log(\"Name:\", peppa_name);\nconsole.log(\"Score:\", peppa_score);\nconsole.log(\"Level:\", peppa_level);\n",
      "text/plain": [
       "<IPython.core.display.Javascript object>"
      ]
     },
     "metadata": {},
     "output_type": "display_data"
    }
   ],
   "source": [
    "%%js \n",
    "let peppa_name = \"Peppa\";\n",
    "let peppa_score = 50;\n",
    "let peppa_level = 1;\n",
    "\n",
    "peppa_score = peppa_score + 10;   \n",
    "peppa_level = peppa_level * 2;\n",
    "\n",
    "console.log(\"Name:\", peppa_name);\n",
    "console.log(\"Score:\", peppa_score);\n",
    "console.log(\"Level:\", peppa_level);"
   ]
  },
  {
   "cell_type": "markdown",
   "id": "3f8a5cbe",
   "metadata": {},
   "source": [
    "## Hack 2: JavaScript - Variable Declaration, Assignment, and Operators\n",
    "Declare variables for Peppa and George's scores using good JavaScript naming conventions. Assign initial values, then use operators to update both scores (e.g., Peppa gets 15 points, George loses 5 points). Print both scores."
   ]
  },
  {
   "cell_type": "code",
   "execution_count": 5,
   "id": "c4c80df3",
   "metadata": {
    "vscode": {
     "languageId": "javascript"
    }
   },
   "outputs": [
    {
     "data": {
      "application/javascript": "let peppa_score = 50;\nlet george_score = 40;\n\npeppa_score += 15;   \ngeorge_score -= 5;\n\nconsole.log(\"Peppa's updated score:\", peppa_score);\nconsole.log(\"George's updated score:\", george_score);\n",
      "text/plain": [
       "<IPython.core.display.Javascript object>"
      ]
     },
     "metadata": {},
     "output_type": "display_data"
    }
   ],
   "source": [
    "%%js \n",
    "let peppa_score = 50;\n",
    "let george_score = 40;\n",
    "\n",
    "peppa_score += 15;   \n",
    "george_score -= 5;\n",
    "\n",
    "console.log(\"Peppa's updated score:\", peppa_score);\n",
    "console.log(\"George's updated score:\", george_score);\n"
   ]
  },
  {
   "cell_type": "markdown",
   "id": "30580c24",
   "metadata": {},
   "source": [
    "## Hack 3: JavaScript - Multiple Assignment and Math Operators\n",
    "Peppa and George both start at level 1. Use a single line to assign both their levels to 5. Then, calculate a combined score by multiplying their levels together and multiplying by 10. Print all results."
   ]
  },
  {
   "cell_type": "code",
   "execution_count": 6,
   "id": "67774ff3",
   "metadata": {
    "vscode": {
     "languageId": "javascript"
    }
   },
   "outputs": [
    {
     "data": {
      "application/javascript": "\nlet peppaLevel = 1, georgeLevel = 1;\npeppaLevel = georgeLevel = 5;\nlet combinedScore = peppaLevel * georgeLevel * 10;\nconsole.log(\"Peppa's level:\", peppaLevel);\nconsole.log(\"George's level:\", georgeLevel);\nconsole.log(\"Combined score:\", combinedScore);\n",
      "text/plain": [
       "<IPython.core.display.Javascript object>"
      ]
     },
     "metadata": {},
     "output_type": "display_data"
    }
   ],
   "source": [
    "%%js \n",
    "\n",
    "let peppaLevel = 1, georgeLevel = 1;\n",
    "peppaLevel = georgeLevel = 5;\n",
    "let combinedScore = peppaLevel * georgeLevel * 10;\n",
    "console.log(\"Peppa's level:\", peppaLevel);\n",
    "console.log(\"George's level:\", georgeLevel);\n",
    "console.log(\"Combined score:\", combinedScore);"
   ]
  },
  {
   "cell_type": "markdown",
   "id": "c34b5914",
   "metadata": {},
   "source": [
    "### Javascrip Outputs for all Hacks"
   ]
  },
  {
   "attachments": {
    "image.png": {
     "image/png": "[encoded data removed]"
    }
   },
   "cell_type": "markdown",
   "id": "84a6e9dc",
   "metadata": {},
   "source": [
    "![image.png](attachment:image.png)"
   ]
  }
 ],
 "metadata": {
  "kernelspec": {
   "display_name": "venv",
   "language": "python",
   "name": "python3"
  },
  "language_info": {
   "codemirror_mode": {
    "name": "ipython",
    "version": 3
   },
   "file_extension": ".py",
   "mimetype": "text/x-python",
   "name": "python",
   "nbconvert_exporter": "python",
   "pygments_lexer": "ipython3",
   "version": "3.12.3"
  }
 },
 "nbformat": 4,
 "nbformat_minor": 5
}
