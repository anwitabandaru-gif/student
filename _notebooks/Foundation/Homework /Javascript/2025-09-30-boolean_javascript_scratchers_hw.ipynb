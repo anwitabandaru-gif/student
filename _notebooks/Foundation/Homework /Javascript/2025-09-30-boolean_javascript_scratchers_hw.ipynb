{
 "cells": [
  {
   "cell_type": "raw",
   "id": "9f76eaf9",
   "metadata": {
    "vscode": {
     "languageId": "raw"
    }
   },
   "source": [
    "---\n",
    "layout: opencs\n",
    "title: Boolean Logic in Programming\n",
    "description: Boolean Hacks For Students To Try In JavaScript\n",
    "comments: false\n",
    "permalink: /csp/big-idea-3/boolean/p4/javahacks\n",
    "comments: true\n",
    "---"
   ]
  },
  {
   "cell_type": "markdown",
   "id": "823548ae",
   "metadata": {},
   "source": [
    "# 🔑 Boolean Hacks in Java: Whack-A-Mole \n",
    "\n",
    "This notebook has short Boolean challenges. Edit the code where it says `TODO` to make it work."
   ]
  },
  {
   "cell_type": "markdown",
   "id": "edd847c1",
   "metadata": {},
   "source": [
    "## Challenge 1: Mole Hit\n",
    "Set hit to true if the player hits the mole. Print \"Hit!\" if hit is true, otherwise print \"Miss!\"."
   ]
  },
  {
   "cell_type": "code",
   "execution_count": 3,
   "id": "e6c87780",
   "metadata": {
    "vscode": {
     "languageId": "javascript"
    }
   },
   "outputs": [
    {
     "data": {
      "application/javascript": "\nlet hit = true; // Change to true if you hit the mole\n\n// TODO: check if hit is true\nif (hit) {\n    console.log(\"Hit!\");\n} else {\n    console.log(\"Miss!\");\n}\n",
      "text/plain": [
       "<IPython.core.display.Javascript object>"
      ]
     },
     "metadata": {},
     "output_type": "display_data"
    }
   ],
   "source": [
    "%%js\n",
    "\n",
    "let hit = true; // Change to true if you hit the mole\n",
    "\n",
    "// TODO: check if hit is true\n",
    "if (hit) {\n",
    "    console.log(\"Hit!\");\n",
    "} else {\n",
    "    console.log(\"Miss!\");\n",
    "}"
   ]
  },
  {
   "cell_type": "markdown",
   "id": "009c2e2d",
   "metadata": {},
   "source": [
    "## Challenge 2: Out of Lives\n",
    "Each time the player misses a mole, they lose a life. If lives reach 0, print \"Game Over!\"."
   ]
  },
  {
   "cell_type": "code",
   "execution_count": 4,
   "id": "2db682ee",
   "metadata": {
    "vscode": {
     "languageId": "javascript"
    }
   },
   "outputs": [
    {
     "data": {
      "application/javascript": "let lives = 3; // Decrease when a mole is missed\nlet missed = true; // Change to true if player misses a mole\n\n// TODO: decrease lives when a mole is missed\nif (missed) {\n    lives -= 1;\n}\n\nif (lives === 0) {\n    console.log(\"Game Over!\");\n} else {\n    console.log(\"Keep playing! Lives left: \" + lives);\n}\n",
      "text/plain": [
       "<IPython.core.display.Javascript object>"
      ]
     },
     "metadata": {},
     "output_type": "display_data"
    }
   ],
   "source": [
    "%%js\n",
    "let lives = 3; // Decrease when a mole is missed\n",
    "let missed = true; // Change to true if player misses a mole\n",
    "\n",
    "// TODO: decrease lives when a mole is missed\n",
    "if (missed) {\n",
    "    lives -= 1;\n",
    "}\n",
    "\n",
    "if (lives === 0) {\n",
    "    console.log(\"Game Over!\");\n",
    "} else {\n",
    "    console.log(\"Keep playing! Lives left: \" + lives);\n",
    "}"
   ]
  },
  {
   "cell_type": "markdown",
   "id": "92c02232",
   "metadata": {},
   "source": [
    "## Challenge 3: High Score Boost\n",
    "If the player’s score reaches 10 or more, give them a bonus of +5 points."
   ]
  },
  {
   "cell_type": "code",
   "execution_count": 5,
   "id": "e11dd74a",
   "metadata": {
    "vscode": {
     "languageId": "javascript"
    }
   },
   "outputs": [
    {
     "data": {
      "application/javascript": "let score = 8; // Increase when a mole is hit\n\n// TODO: add 5 bonus points when score is 10 or higher\nif (score >= 10) {\n    score += 5;\n    console.log(\"New High Score! Bonus awarded.\");\n} else {\n    console.log(\"Try again!\");\n}\n\nconsole.log(\"Final score: \" + score);\n",
      "text/plain": [
       "<IPython.core.display.Javascript object>"
      ]
     },
     "metadata": {},
     "output_type": "display_data"
    }
   ],
   "source": [
    "%%js\n",
    "let score = 8; // Increase when a mole is hit\n",
    "\n",
    "// TODO: add 5 bonus points when score is 10 or higher\n",
    "if (score >= 10) {\n",
    "    score += 5;\n",
    "    console.log(\"New High Score! Bonus awarded.\");\n",
    "} else {\n",
    "    console.log(\"Try again!\");\n",
    "}\n",
    "\n",
    "console.log(\"Final score: \" + score);"
   ]
  },
  {
   "cell_type": "markdown",
   "id": "d8499647",
   "metadata": {},
   "source": [
    "## Challenge 4: Bonus Mole Condition\n",
    "A golden mole should only give a bonus if both goldenMole and hit are true. Fix the condition."
   ]
  },
  {
   "cell_type": "code",
   "execution_count": 6,
   "id": "a23b7e64",
   "metadata": {
    "vscode": {
     "languageId": "javascript"
    }
   },
   "outputs": [
    {
     "data": {
      "application/javascript": "let goldenMole = true;   // Special mole appears\nlet hit = true;          // Change to true if the mole is hit\n\n// TODO: fix the condition so bonus only happens when BOTH are true\nif (goldenMole || hit) { // <-- wrong condition\n    console.log(\"Bonus!\");\n} else {\n    console.log(\"No bonus.\");\n}\n",
      "text/plain": [
       "<IPython.core.display.Javascript object>"
      ]
     },
     "metadata": {},
     "output_type": "display_data"
    }
   ],
   "source": [
    "%%js\n",
    "let goldenMole = true;   // Special mole appears\n",
    "let hit = true;          // Change to true if the mole is hit\n",
    "\n",
    "// TODO: fix the condition so bonus only happens when BOTH are true\n",
    "if (goldenMole || hit) { // <-- wrong condition\n",
    "    console.log(\"Bonus!\");\n",
    "} else {\n",
    "    console.log(\"No bonus.\");\n",
    "}"
   ]
  },
  {
   "cell_type": "markdown",
   "id": "fb2c7c72",
   "metadata": {},
   "source": [
    "### Javascrip Outputs for all Hacks"
   ]
  },
  {
   "attachments": {
    "image.png": {
     "image/png": "[encoded data removed]"
    }
   },
   "cell_type": "markdown",
   "id": "f83635ec",
   "metadata": {},
   "source": [
    "![image.png](attachment:image.png)"
   ]
  }
 ],
 "metadata": {
  "kernelspec": {
   "display_name": "venv",
   "language": "python",
   "name": "python3"
  },
  "language_info": {
   "codemirror_mode": {
    "name": "ipython",
    "version": 3
   },
   "file_extension": ".py",
   "mimetype": "text/x-python",
   "name": "python",
   "nbconvert_exporter": "python",
   "pygments_lexer": "ipython3",
   "version": "3.12.3"
  }
 },
 "nbformat": 4,
 "nbformat_minor": 5
}
